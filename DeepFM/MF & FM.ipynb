{
 "cells": [
  {
   "cell_type": "markdown",
   "metadata": {},
   "source": [
    "References: <br>\n",
    "http://www.quuxlabs.com/blog/2010/09/matrix-factorization-a-simple-tutorial-and-implementation-in-python/"
   ]
  },
  {
   "cell_type": "markdown",
   "metadata": {},
   "source": [
    "#### Table of Contents:\n",
    "- [Matrix Factorization](#mf)\n",
    "- [Factorization Machine](#fm)"
   ]
  },
  {
   "cell_type": "markdown",
   "metadata": {},
   "source": [
    "### Matrix Factorization <a name=\"mf\"></a>"
   ]
  },
  {
   "cell_type": "markdown",
   "metadata": {},
   "source": [
    "#### Intro"
   ]
  },
  {
   "cell_type": "markdown",
   "metadata": {},
   "source": [
    "Suppose we have this matrix that contains user-movie interactions. With rating 1-5\n",
    "\n",
    "\n",
    "|   | Batman DK  | Pulp Fiction  | Star Wars IX | Parasite  |\n",
    "|---|---|---|---|---|\n",
    "| Lord  |  5 | 3  | -  | 1  |\n",
    "| Arpi  | 4  | -  | -  | -  |\n",
    "| Reja  | 1  | 3  | -  | 2  |\n",
    "| Tedi | 3| - | - | -|\n",
    "| Bamz |- | 5 | 4 | 3 |\n",
    "\n",
    "And we want to know which film that we can recommend to Arpi. So how do we do it? \n",
    "\n",
    "We can use so-called **Matrix Factorization**"
   ]
  },
  {
   "cell_type": "markdown",
   "metadata": {},
   "source": [
    "#### Matrix Factorization? "
   ]
  },
  {
   "cell_type": "markdown",
   "metadata": {},
   "source": [
    "In recommendation system, Matrix Factorization is one way to\n",
    "predict hidden or latent features based on the existing interactions between the Users and their Items. In layman's terms, we can predict missing user's item ratings (or anything else) based on those users' existing ratings. "
   ]
  },
  {
   "cell_type": "markdown",
   "metadata": {},
   "source": [
    "We can do this by finding the dot product of factor matrices that based on the existing (usually sparse) matrix. Because we only know the current interactions matrix, we need to find those factor matrices.This is where we need to use some _machine learning_ shenanigans.\n",
    "\n"
   ]
  },
  {
   "attachments": {
    "user_movie.jpg": {
     "image/jpeg": "[encoded data removed]"
    }
   },
   "cell_type": "markdown",
   "metadata": {},
   "source": [
    "![user_movie.jpg](attachment:user_movie.jpg)"
   ]
  },
  {
   "cell_type": "markdown",
   "metadata": {
    "ExecuteTime": {
     "end_time": "2020-02-28T03:13:27.675739Z",
     "start_time": "2020-02-28T03:13:27.671315Z"
    }
   },
   "source": [
    "##### The basic formula of our Matrix Factorization is:\n",
    "\n",
    "$$R\\approx (P*K) \\cdot (K*Q^T) = \\hat{R}$$\n",
    "\n",
    "Where:\n",
    "<br>_R_ = Original Matrix\n",
    "<br>_P_ = Users Rows  \n",
    "<br>_Q_ = Items Columns\n",
    "<br>_K_ = Number of features (Defined by ourselves, usually 2-250. We can also use cross-validation)\n",
    "\n",
    "To get the prediction of a rating of an item _$i_j$_ by _$u_i$_ we can calculate the dot product of the two vectors corresponding to  _$i_j$_ and _$u_i$_ :\n",
    "\n",
    "$$\\hat{r}_{ij} =  p^T_i = \\sum^k_{k=1}p_{ik}q_{kj}$$\n",
    "<br>\n",
    "\n",
    "To find P and Q, we need to have calculate how 'different' their product to R (the original matrix). We usually used MSE _(Mean Squared Error)_ to calculate the error:\n",
    "\n",
    "$$e^2_{ij} = (r_{ij}-\\hat{r}_{ij})^2 = (r_{ij} - \\sum^k_{k=1}p_{ik}q_{kj})^2$$\n",
    "<br>\n",
    "\n",
    "Because we want to make sure our P and Q dot product matrix are having the same value, we need to minimize our error by using stochastic gradient descent. As usual, to get the gradient of current values we can differentiate mse with respect to two variables separately: \n",
    "\n",
    "$$\\dfrac{d}{d_{p_ik}}e^2_{ij} = -2(r_{ij}-\\hat{r}_{ij}) = -2e_{ij}q_{kj}$$\n",
    "\n",
    "$$\\dfrac{d}{d_{q_ik}}e^2_{ij} = -2(r_{ij}-\\hat{r}_{ij}) = -2e_{ij}p_{kj}$$\n",
    "\n",
    "With those gradient, then we can now formulate the update rules for both $p_{ik}$ and $q_{kj}$:\n",
    "\n",
    "$$p^`_{ik} = p_{ik} + \\alpha\\dfrac{d}{d_{p_{ik}}}e^2_{ij} = p_{ik} + 2\\alpha e_{ij}q_{kj}$$\n",
    "\n",
    "$$q^`_{kj} = p_{kj} + \\alpha\\dfrac{d}{d_{q_{kj}}}e^2_{ij} = q_{kj} + 2\\alpha e_{ij}p_{ik}$$\n",
    "\n",
    "with $\\alpha$ as learning rate.\n",
    "\n"
   ]
  },
  {
   "cell_type": "markdown",
   "metadata": {},
   "source": [
    "#### MF Implementation"
   ]
  },
  {
   "cell_type": "code",
   "execution_count": 10,
   "metadata": {
    "ExecuteTime": {
     "end_time": "2020-02-28T08:16:14.755651Z",
     "start_time": "2020-02-28T08:16:14.736985Z"
    }
   },
   "outputs": [],
   "source": [
    "import numpy\n",
    "xrange = range\n",
    "# with regularization\n",
    "def matrix_factorization(R, P, Q, K, steps=5000, alpha=0.0002, beta=0.02):\n",
    "    Q = Q.T\n",
    "    for step in xrange(steps):\n",
    "        for i in xrange(len(R)):\n",
    "            for j in xrange(len(R[i])):\n",
    "                if R[i][j] > 0:\n",
    "                    eij = R[i][j] - numpy.dot(P[i,:],Q[:,j])\n",
    "                    for k in xrange(K):\n",
    "                        P[i][k] = P[i][k] + alpha * (2 * eij * Q[k][j] - beta * P[i][k])\n",
    "                        Q[k][j] = Q[k][j] + alpha * (2 * eij * P[i][k] - beta * Q[k][j])\n",
    "        eR = numpy.dot(P,Q)\n",
    "        e = 0\n",
    "        for i in xrange(len(R)):\n",
    "            for j in xrange(len(R[i])):\n",
    "                if R[i][j] > 0:\n",
    "                    e = e + pow(R[i][j] - numpy.dot(P[i,:],Q[:,j]), 2)\n",
    "                    for k in xrange(K):\n",
    "                        e = e + (beta/2) * (pow(P[i][k],2) + pow(Q[k][j],2))\n",
    "        if e < 0.001:\n",
    "            break\n",
    "    return P, Q.T\n"
   ]
  },
  {
   "cell_type": "code",
   "execution_count": 11,
   "metadata": {
    "ExecuteTime": {
     "end_time": "2020-02-28T08:16:37.989985Z",
     "start_time": "2020-02-28T08:16:35.603043Z"
    }
   },
   "outputs": [
    {
     "name": "stdout",
     "output_type": "stream",
     "text": [
      "original matrix: \n"
     ]
    },
    {
     "data": {
      "text/plain": [
       "array([[5, 3, 0, 1],\n",
       "       [4, 0, 0, 0],\n",
       "       [1, 3, 0, 2],\n",
       "       [3, 0, 0, 0],\n",
       "       [0, 5, 4, 3]])"
      ]
     },
     "metadata": {},
     "output_type": "display_data"
    },
    {
     "name": "stdout",
     "output_type": "stream",
     "text": [
      "MF matrix: \n"
     ]
    },
    {
     "data": {
      "text/plain": [
       "array([[4.96806196, 2.88184481, 3.32711962, 1.22070994],\n",
       "       [3.97669888, 3.54281291, 2.74342725, 1.95778945],\n",
       "       [1.10880369, 2.85024732, 0.88581778, 2.02352773],\n",
       "       [2.97096474, 3.14812931, 2.08213411, 1.86039711],\n",
       "       [5.76444137, 5.10827518, 3.97498   , 2.8163221 ]])"
      ]
     },
     "metadata": {},
     "output_type": "display_data"
    }
   ],
   "source": [
    "R = [\n",
    "     [5,3,0,1],\n",
    "     [4,0,0,0],\n",
    "     [1,3,0,2],\n",
    "     [3,0,0,0],\n",
    "     [0,5,4,3],\n",
    "    ]\n",
    "\n",
    "R = numpy.array(R)\n",
    "\n",
    "N = len(R)\n",
    "M = len(R[0])\n",
    "K = 2\n",
    "\n",
    "P = numpy.random.rand(N,K)\n",
    "Q = numpy.random.rand(M,K)\n",
    "\n",
    "nP, nQ = matrix_factorization(R, P, Q, K)\n",
    "nR = numpy.dot(nP, nQ.T)\n",
    "\n",
    "print(\"original matrix: \")\n",
    "display(R)\n",
    "print(\"MF matrix: \")\n",
    "display(nR)"
   ]
  },
  {
   "cell_type": "code",
   "execution_count": null,
   "metadata": {},
   "outputs": [],
   "source": []
  },
  {
   "cell_type": "markdown",
   "metadata": {},
   "source": [
    "### Factorization Machine <a name=\"fm\"></a>"
   ]
  },
  {
   "cell_type": "markdown",
   "metadata": {},
   "source": [
    "<div style=\"text-align: right; font-size:32px\"> つづく </div>\n"
   ]
  },
  {
   "cell_type": "markdown",
   "metadata": {
    "ExecuteTime": {
     "end_time": "2020-02-28T07:14:11.528852Z",
     "start_time": "2020-02-28T07:14:11.521340Z"
    }
   },
   "source": [
    "この番組はご覧のスポンサーで送りします。"
   ]
  },
  {
   "cell_type": "code",
   "execution_count": null,
   "metadata": {},
   "outputs": [],
   "source": []
  }
 ],
 "metadata": {
  "kernelspec": {
   "display_name": "Python 3",
   "language": "python",
   "name": "python3"
  },
  "language_info": {
   "codemirror_mode": {
    "name": "ipython",
    "version": 3
   },
   "file_extension": ".py",
   "mimetype": "text/x-python",
   "name": "python",
   "nbconvert_exporter": "python",
   "pygments_lexer": "ipython3",
   "version": "3.6.8"
  }
 },
 "nbformat": 4,
 "nbformat_minor": 2
}
